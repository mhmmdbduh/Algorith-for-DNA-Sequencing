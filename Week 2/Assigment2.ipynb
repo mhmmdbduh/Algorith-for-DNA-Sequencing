{
 "cells": [
  {
   "cell_type": "code",
   "execution_count": 98,
   "metadata": {},
   "outputs": [],
   "source": [
    "#!/usr/bin/env python\n",
    "\n",
    "\"\"\"bm_preproc.py: Boyer-Moore preprocessing.\"\"\"\n",
    "\n",
    "__author__ = \"Ben Langmead\"\n",
    "\n",
    "import unittest\n",
    "\n",
    "\n",
    "def z_array(s):\n",
    "    \"\"\" Use Z algorithm (Gusfield theorem 1.4.1) to preprocess s \"\"\"\n",
    "    assert len(s) > 1\n",
    "    z = [len(s)] + [0] * (len(s)-1)\n",
    "\n",
    "    # Initial comparison of s[1:] with prefix\n",
    "    for i in range(1, len(s)):\n",
    "        if s[i] == s[i-1]:\n",
    "            z[1] += 1\n",
    "        else:\n",
    "            break\n",
    "\n",
    "    r, l = 0, 0\n",
    "    if z[1] > 0:\n",
    "        r, l = z[1], 1\n",
    "\n",
    "    for k in range(2, len(s)):\n",
    "        assert z[k] == 0\n",
    "        if k > r:\n",
    "            # Case 1\n",
    "            for i in range(k, len(s)):\n",
    "                if s[i] == s[i-k]:\n",
    "                    z[k] += 1\n",
    "                else:\n",
    "                    break\n",
    "            r, l = k + z[k] - 1, k\n",
    "        else:\n",
    "            # Case 2\n",
    "            # Calculate length of beta\n",
    "            nbeta = r - k + 1\n",
    "            zkp = z[k - l]\n",
    "            if nbeta > zkp:\n",
    "                # Case 2a: zkp wins\n",
    "                z[k] = zkp\n",
    "            else:\n",
    "                # Case 2b: Compare characters just past r\n",
    "                nmatch = 0\n",
    "                for i in range(r+1, len(s)):\n",
    "                    if s[i] == s[i - k]:\n",
    "                        nmatch += 1\n",
    "                    else:\n",
    "                        break\n",
    "                l, r = k, r + nmatch\n",
    "                z[k] = r - k + 1\n",
    "    return z\n",
    "\n",
    "\n",
    "def n_array(s):\n",
    "    \"\"\" Compile the N array (Gusfield theorem 2.2.2) from the Z array \"\"\"\n",
    "    return z_array(s[::-1])[::-1]\n",
    "\n",
    "\n",
    "def big_l_prime_array(p, n):\n",
    "    \"\"\" Compile L' array (Gusfield theorem 2.2.2) using p and N array.\n",
    "        L'[i] = largest index j less than n such that N[j] = |P[i:]| \"\"\"\n",
    "    lp = [0] * len(p)\n",
    "    for j in range(len(p)-1):\n",
    "        i = len(p) - n[j]\n",
    "        if i < len(p):\n",
    "            lp[i] = j + 1\n",
    "    return lp\n",
    "\n",
    "\n",
    "def big_l_array(p, lp):\n",
    "    \"\"\" Compile L array (Gusfield theorem 2.2.2) using p and L' array.\n",
    "        L[i] = largest index j less than n such that N[j] >= |P[i:]| \"\"\"\n",
    "    l = [0] * len(p)\n",
    "    l[1] = lp[1]\n",
    "    for i in range(2, len(p)):\n",
    "        l[i] = max(l[i-1], lp[i])\n",
    "    return l\n",
    "\n",
    "\n",
    "def small_l_prime_array(n):\n",
    "    \"\"\" Compile lp' array (Gusfield theorem 2.2.4) using N array. \"\"\"\n",
    "    small_lp = [0] * len(n)\n",
    "    for i in range(len(n)):\n",
    "        if n[i] == i+1:  # prefix matching a suffix\n",
    "            small_lp[len(n)-i-1] = i+1\n",
    "    for i in range(len(n)-2, -1, -1):  # \"smear\" them out to the left\n",
    "        if small_lp[i] == 0:\n",
    "            small_lp[i] = small_lp[i+1]\n",
    "    return small_lp\n",
    "\n",
    "\n",
    "def good_suffix_table(p):\n",
    "    \"\"\" Return tables needed to apply good suffix rule. \"\"\"\n",
    "    n = n_array(p)\n",
    "    lp = big_l_prime_array(p, n)\n",
    "    return lp, big_l_array(p, lp), small_l_prime_array(n)\n",
    "\n",
    "\n",
    "def good_suffix_mismatch(i, big_l_prime, small_l_prime):\n",
    "    \"\"\" Given a mismatch at offset i, and given L/L' and l' arrays,\n",
    "        return amount to shift as determined by good suffix rule. \"\"\"\n",
    "    length = len(big_l_prime)\n",
    "    assert i < length\n",
    "    if i == length - 1:\n",
    "        return 0\n",
    "    i += 1  # i points to leftmost matching position of P\n",
    "    if big_l_prime[i] > 0:\n",
    "        return length - big_l_prime[i]\n",
    "    return length - small_l_prime[i]\n",
    "\n",
    "\n",
    "def good_suffix_match(small_l_prime):\n",
    "    \"\"\" Given a full match of P to T, return amount to shift as\n",
    "        determined by good suffix rule. \"\"\"\n",
    "    return len(small_l_prime) - small_l_prime[1]\n",
    "\n",
    "\n",
    "def dense_bad_char_tab(p, amap):\n",
    "    \"\"\" Given pattern string and list with ordered alphabet characters, create\n",
    "        and return a dense bad character table.  Table is indexed by offset\n",
    "        then by character. \"\"\"\n",
    "    tab = []\n",
    "    nxt = [0] * len(amap)\n",
    "    for i in range(0, len(p)):\n",
    "        c = p[i]\n",
    "        assert c in amap\n",
    "        tab.append(nxt[:])\n",
    "        nxt[amap[c]] = i+1\n",
    "    return tab\n",
    "\n",
    "\n",
    "class BoyerMoore(object):\n",
    "    \"\"\" Encapsulates pattern and associated Boyer-Moore preprocessing. \"\"\"\n",
    "\n",
    "    def __init__(self, p, alphabet='ACGT'):\n",
    "        # Create map from alphabet characters to integers\n",
    "        self.amap = {alphabet[i]: i for i in range(len(alphabet))}\n",
    "        # Make bad character rule table\n",
    "        self.bad_char = dense_bad_char_tab(p, self.amap)\n",
    "        # Create good suffix rule table\n",
    "        _, self.big_l, self.small_l_prime = good_suffix_table(p)\n",
    "\n",
    "    def bad_character_rule(self, i, c):\n",
    "        \"\"\" Return # skips given by bad character rule at offset i \"\"\"\n",
    "        assert c in self.amap\n",
    "        assert i < len(self.bad_char)\n",
    "        ci = self.amap[c]\n",
    "        return i - (self.bad_char[i][ci]-1)\n",
    "\n",
    "    def good_suffix_rule(self, i):\n",
    "        \"\"\" Given a mismatch at offset i, return amount to shift\n",
    "            as determined by (weak) good suffix rule. \"\"\"\n",
    "        length = len(self.big_l)\n",
    "        assert i < length\n",
    "        if i == length - 1:\n",
    "            return 0\n",
    "        i += 1  # i points to leftmost matching position of P\n",
    "        if self.big_l[i] > 0:\n",
    "            return length - self.big_l[i]\n",
    "        return length - self.small_l_prime[i]\n",
    "\n",
    "    def match_skip(self):\n",
    "        \"\"\" Return amount to shift in case where P matches T \"\"\"\n",
    "        return len(self.small_l_prime) - self.small_l_prime[1]\n",
    "\n",
    "\n",
    "class TestBoyerMoorePreproc(unittest.TestCase):\n",
    "\n",
    "    def test_z_1(self):\n",
    "        s = 'abb'\n",
    "        #    -00\n",
    "        z = z_array(s)\n",
    "        self.assertEqual([3, 0, 0], z)\n",
    "\n",
    "    def test_z_2(self):\n",
    "        s = 'abababab'\n",
    "        #    00604020\n",
    "        z = z_array(s)\n",
    "        self.assertEqual([8, 0, 6, 0, 4, 0, 2, 0], z)\n",
    "\n",
    "    def test_z_3(self):\n",
    "        s = 'abababab'\n",
    "        #    00604020\n",
    "        z = z_array(s)\n",
    "        self.assertEqual([8, 0, 6, 0, 4, 0, 2, 0], z)\n",
    "\n",
    "    def test_n_1(self):\n",
    "        s = 'abb'\n",
    "        #    01-\n",
    "        n = n_array(s)\n",
    "        self.assertEqual([0, 1, 3], n)\n",
    "\n",
    "    def test_n_2(self):\n",
    "        s = 'abracadabra'\n",
    "        #    1004010100-\n",
    "        n = n_array(s)\n",
    "        self.assertEqual([1, 0, 0, 4, 0, 1, 0, 1, 0, 0, 11], n)\n",
    "\n",
    "    def test_n_3(self):\n",
    "        s = 'abababab'\n",
    "        #    0204060-\n",
    "        n = n_array(s)\n",
    "        self.assertEqual([0, 2, 0, 4, 0, 6, 0, 8], n)\n",
    "\n",
    "    def test_big_l_prime_1(self):\n",
    "        s = 'abb'\n",
    "        #    001\n",
    "        big_l_prime = big_l_prime_array(s, n_array(s))\n",
    "        self.assertEqual([0, 0, 2], big_l_prime)\n",
    "\n",
    "    def test_big_l_prime_2(self):\n",
    "        s = 'abracadabra'\n",
    "        #    01234567890\n",
    "        # L' 00000003007\n",
    "        # L  00000003337\n",
    "        big_l_prime = big_l_prime_array(s, n_array(s))\n",
    "        self.assertEqual([0, 0, 0, 0, 0, 0, 0, 4, 0, 0, 8], big_l_prime)\n",
    "\n",
    "    def test_small_l_prime_1(self):\n",
    "        s = 'abracadabra'\n",
    "        # N  1004010100-\n",
    "        # l'           1\n",
    "        # l'        4\n",
    "        # l' 44444444111\n",
    "        small_l_prime = small_l_prime_array(n_array(s))\n",
    "        self.assertEqual([11, 4, 4, 4, 4, 4, 4, 4, 1, 1, 1], small_l_prime)\n",
    "\n",
    "    def test_good_suffix_match_mismatch_1(self):\n",
    "        p = 'GGTAGGT'\n",
    "        big_l_prime, big_l, small_l_prime = good_suffix_table(p)\n",
    "        self.assertEqual([0, 0, 0, 0, 3, 0, 0], big_l_prime)\n",
    "        self.assertEqual([0, 0, 0, 0, 3, 3, 3], big_l)\n",
    "        self.assertEqual([7, 3, 3, 3, 3, 0, 0], small_l_prime)\n",
    "        self.assertEqual(0, good_suffix_mismatch(6, big_l_prime, small_l_prime))\n",
    "        self.assertEqual(0, good_suffix_mismatch(6, big_l, small_l_prime))\n",
    "        #  t:      xT\n",
    "        #  p: GGTAGGT\n",
    "        # L': -000300\n",
    "        #  L: -000333\n",
    "        self.assertEqual(7, good_suffix_mismatch(5, big_l_prime, small_l_prime))\n",
    "        self.assertEqual(4, good_suffix_mismatch(5, big_l, small_l_prime))\n",
    "        #  t:     xGT\n",
    "        #  p: GGTAGGT\n",
    "        # L': -000300\n",
    "        #  L: -000333\n",
    "        self.assertEqual(7, good_suffix_mismatch(4, big_l_prime, small_l_prime))\n",
    "        self.assertEqual(4, good_suffix_mismatch(4, big_l, small_l_prime))\n",
    "        #  t:    xGGT\n",
    "        #  p: GGTAGGT\n",
    "        # L': -000300\n",
    "        #  L: -000333\n",
    "        self.assertEqual(4, good_suffix_mismatch(3, big_l_prime, small_l_prime))\n",
    "        self.assertEqual(4, good_suffix_mismatch(3, big_l, small_l_prime))\n",
    "        #  t:   xAGGT\n",
    "        #  p: GGTAGGT\n",
    "        # L': -000300\n",
    "        #  L: -000333\n",
    "        self.assertEqual(4, good_suffix_mismatch(2, big_l_prime, small_l_prime))\n",
    "        self.assertEqual(4, good_suffix_mismatch(2, big_l, small_l_prime))\n",
    "        #  t:  xTAGGT\n",
    "        #  p: GGTAGGT\n",
    "        # L': -000300\n",
    "        #  L: -000333\n",
    "        self.assertEqual(4, good_suffix_mismatch(1, big_l_prime, small_l_prime))\n",
    "        self.assertEqual(4, good_suffix_mismatch(1, big_l, small_l_prime))\n",
    "        #  t: xGTAGGT\n",
    "        #  p: GGTAGGT\n",
    "        # L': -000300\n",
    "        #  L: -000333\n",
    "        self.assertEqual(4, good_suffix_mismatch(0, big_l_prime, small_l_prime))\n",
    "        self.assertEqual(4, good_suffix_mismatch(0, big_l, small_l_prime))\n",
    "\n",
    "    def test_good_suffix_table_1(self):\n",
    "        s = 'abb'\n",
    "        #    001\n",
    "        big_l_prime, big_l, small_l_prime = good_suffix_table(s)\n",
    "        self.assertEqual([0, 0, 2], big_l_prime)\n",
    "        self.assertEqual([0, 0, 2], big_l)\n",
    "        self.assertEqual([3, 0, 0], small_l_prime)\n",
    "\n",
    "    def test_good_suffix_table_2(self):\n",
    "        s = 'abracadabra'\n",
    "        #    01234567890\n",
    "        # L' 00000003007\n",
    "        # L  00000003337\n",
    "        # l' -4444444111\n",
    "        big_l_prime, big_l, small_l_prime = good_suffix_table(s)\n",
    "        self.assertEqual([0, 0, 0, 0, 0, 0, 0, 4, 0, 0, 8], big_l_prime)\n",
    "        self.assertEqual([0, 0, 0, 0, 0, 0, 0, 4, 4, 4, 8], big_l)\n",
    "        self.assertEqual([11, 4, 4, 4, 4, 4, 4, 4, 1, 1, 1], small_l_prime)"
   ]
  },
  {
   "cell_type": "code",
   "execution_count": 99,
   "metadata": {},
   "outputs": [],
   "source": [
    "def boyer_moore(p, p_bm, t):\n",
    "    \"\"\" Do Boyer-Moore matching. p=pattern, t=text,\n",
    "        p_bm=BoyerMoore object for p \"\"\"\n",
    "    i = 0\n",
    "    occurrences = []\n",
    "    while i < len(t) - len(p) + 1:\n",
    "        shift = 1\n",
    "        mismatched = False\n",
    "        for j in range(len(p)-1, -1, -1):\n",
    "            if p[j] != t[i+j]:\n",
    "                skip_bc = p_bm.bad_character_rule(j, t[i+j])\n",
    "                skip_gs = p_bm.good_suffix_rule(j)\n",
    "                shift = max(shift, skip_bc, skip_gs)\n",
    "                mismatched = True\n",
    "                break\n",
    "        if not mismatched:\n",
    "            occurrences.append(i)\n",
    "            skip_gs = p_bm.match_skip()\n",
    "            shift = max(shift, skip_gs)\n",
    "        i += shift\n",
    "    return occurrences"
   ]
  },
  {
   "cell_type": "code",
   "execution_count": 100,
   "metadata": {},
   "outputs": [],
   "source": [
    "def loadFasta(filename):\n",
    "    f = open(filename)\n",
    "    name = ''\n",
    "    dna = ''\n",
    "    \n",
    "    for line in f:\n",
    "        if line[0] == '>':\n",
    "            name = line[1:].rstrip()\n",
    "            \n",
    "        else:\n",
    "            dna += line.rstrip()\n",
    "    return name, dna\n"
   ]
  },
  {
   "cell_type": "code",
   "execution_count": 101,
   "metadata": {},
   "outputs": [],
   "source": [
    "file = 'chr1.GRCh38.excerpt.fasta'\n",
    "chromosome_name, chromosome_dna = loadFasta(file)"
   ]
  },
  {
   "cell_type": "code",
   "execution_count": 102,
   "metadata": {},
   "outputs": [],
   "source": [
    "def naive_alignment(p, t):\n",
    "    appearance = []\n",
    "    alignment = 0\n",
    "    \n",
    "    for i in range(len(t) - len(p) + 1):\n",
    "        alignment += 1\n",
    "        for j in range(len(p)):\n",
    "            match = True\n",
    "            if t[i + j] != p[j]:\n",
    "                match = False\n",
    "                break                \n",
    "        if match == True:\n",
    "            appearance.append(i)         \n",
    "   \n",
    "    return appearance, alignment"
   ]
  },
  {
   "cell_type": "code",
   "execution_count": 103,
   "metadata": {},
   "outputs": [],
   "source": [
    "human_alu = 'GGCGCGGTGGCTCACGCCTGTAATCCCAGCACTTTGGGAGGCCGAGG'"
   ]
  },
  {
   "cell_type": "code",
   "execution_count": 104,
   "metadata": {},
   "outputs": [
    {
     "data": {
      "text/plain": [
       "([56922], 799954)"
      ]
     },
     "execution_count": 104,
     "metadata": {},
     "output_type": "execute_result"
    }
   ],
   "source": [
    "naive_alignment(human_alu, chromosome_dna)"
   ]
  },
  {
   "cell_type": "code",
   "execution_count": 105,
   "metadata": {},
   "outputs": [],
   "source": [
    "def naive_comparison(p, t):\n",
    "    appearance = []\n",
    "    comparison = 0\n",
    "    \n",
    "    for i in range(len(t) - len(p) + 1):\n",
    "        for j in range(len(p)):\n",
    "            comparison += 1\n",
    "            match = True\n",
    "            if t[i + j] != p[j]:\n",
    "                match = False\n",
    "                break                \n",
    "        if match == True:\n",
    "            appearance.append(i)         \n",
    "   \n",
    "    return appearance, comparison"
   ]
  },
  {
   "cell_type": "code",
   "execution_count": 106,
   "metadata": {},
   "outputs": [
    {
     "data": {
      "text/plain": [
       "([56922], 984143)"
      ]
     },
     "execution_count": 106,
     "metadata": {},
     "output_type": "execute_result"
    }
   ],
   "source": [
    "naive_comparison(human_alu,chromosome_dna)"
   ]
  },
  {
   "cell_type": "code",
   "execution_count": 107,
   "metadata": {},
   "outputs": [
    {
     "data": {
      "text/plain": [
       "'GGCGCGGTGGCTCACGCCTGTAATCCCAGCACTTTGGGAGGCCGAGG'"
      ]
     },
     "execution_count": 107,
     "metadata": {},
     "output_type": "execute_result"
    }
   ],
   "source": [
    "human_alu\n"
   ]
  },
  {
   "cell_type": "code",
   "execution_count": 108,
   "metadata": {},
   "outputs": [],
   "source": [
    "\n",
    "def boyer_moore(p, p_bm, t):\n",
    "    \"\"\" Do Boyer-Moore matching. p=pattern, t=text,\n",
    "        p_bm=BoyerMoore object for p \"\"\"\n",
    "    i = 0\n",
    "    occurrences = []\n",
    "    alignment = 0\n",
    "    while i < len(t) - len(p) + 1:\n",
    "        alignment +=1\n",
    "        shift = 1\n",
    "        mismatched = False\n",
    "        for j in range(len(p)-1, -1, -1):\n",
    "            if p[j] != t[i+j]:\n",
    "                skip_bc = p_bm.bad_character_rule(j, t[i+j])\n",
    "                skip_gs = p_bm.good_suffix_rule(j)\n",
    "                shift = max(shift, skip_bc, skip_gs)\n",
    "                mismatched = True\n",
    "                break\n",
    "        if not mismatched:\n",
    "            occurrences.append(i)\n",
    "            skip_gs = p_bm.match_skip()\n",
    "            shift = max(shift, skip_gs)\n",
    "        i += shift\n",
    "    return occurrences, alignment"
   ]
  },
  {
   "cell_type": "code",
   "execution_count": 109,
   "metadata": {},
   "outputs": [
    {
     "data": {
      "text/plain": [
       "([56922], 127974)"
      ]
     },
     "execution_count": 109,
     "metadata": {},
     "output_type": "execute_result"
    }
   ],
   "source": [
    "alu_bm = BoyerMoore(human_alu)\n",
    "boyer_moore(human_alu, alu_bm, chromosome_dna)"
   ]
  },
  {
   "cell_type": "code",
   "execution_count": 110,
   "metadata": {},
   "outputs": [],
   "source": [
    "__author__ = \"Ben Langmead\"\n",
    "\n",
    "import bisect\n",
    "\n",
    "\n",
    "class Index(object):\n",
    "    \"\"\" Holds a substring index for a text T \"\"\"\n",
    "\n",
    "    def __init__(self, t, k):\n",
    "        \"\"\" Create index from all substrings of t of length k \"\"\"\n",
    "        self.k = k  # k-mer length (k)\n",
    "        self.index = []\n",
    "        for i in range(len(t) - k + 1):  # for each k-mer\n",
    "            self.index.append((t[i:i+k], i))  # add (k-mer, offset) pair\n",
    "        self.index.sort()  # alphabetize by k-mer !!!!!! Attention, remember this sorting step!!!!\n",
    "\n",
    "    def query(self, p):\n",
    "        \"\"\" Return index hits for first k-mer of p \"\"\"\n",
    "        kmer = p[:self.k]  # query with first k-mer\n",
    "        i = bisect.bisect_left(self.index, (kmer, -1))  # binary search\n",
    "        hits = []\n",
    "        while i < len(self.index):  # collect matching index entries\n",
    "            if self.index[i][0] != kmer:\n",
    "                break\n",
    "            hits.append(self.index[i][1])\n",
    "            i += 1\n",
    "        return hits"
   ]
  },
  {
   "cell_type": "code",
   "execution_count": 111,
   "metadata": {},
   "outputs": [],
   "source": [
    "def index_approximate_match(p, t, t_index, n):\n",
    "        segment_length = int(len(p) / (n + 1))\n",
    "        hits = []\n",
    "        all_match =set() # We use set to unique the repetitive items.\n",
    "        for c in range(n + 1):\n",
    "            start = c * segment_length\n",
    "            end = (c + 1) * segment_length\n",
    "            segment = p[start:end]\n",
    "            \n",
    "            i = bisect.bisect_left(t_index.index, (segment, -1))\n",
    "            \n",
    "            while i < len(t_index.index):\n",
    "                if segment != t_index.index[i][0]:\n",
    "                    break\n",
    "                else:\n",
    "                    t_offset = t_index.index[i][1]\n",
    "                    hits.append(t_offset)                    \n",
    "                i += 1            \n",
    "            \n",
    "            for h in hits:\n",
    "                if start > h or h-start+len(p) > len(t):\n",
    "                    continue\n",
    "                    \n",
    "                mismatch = 0\n",
    "                for x in range(0, start):\n",
    "                    if p[x] != t[h-start+x]:\n",
    "                        mismatch += 1\n",
    "                    if mismatch > n:\n",
    "                        break\n",
    "                        \n",
    "                for y in range(end, len(p)):\n",
    "                    if p[y] != t[h-start+y]:\n",
    "                        mismatch += 1\n",
    "                    if mismatch > n:\n",
    "                        break\n",
    "                        \n",
    "                if mismatch <=n:\n",
    "                    all_match.add(h-start) # We use set to unique the repetitive items.\n",
    "                                   \n",
    "        return hits, list(all_match)\n"
   ]
  },
  {
   "cell_type": "code",
   "execution_count": 112,
   "metadata": {},
   "outputs": [],
   "source": [
    "chromosome_dna_index = Index(chromosome_dna, 8)"
   ]
  },
  {
   "cell_type": "code",
   "execution_count": 113,
   "metadata": {},
   "outputs": [],
   "source": [
    "p = 'GGCGCGGTGGCTCACGCCTGTAAT'\n",
    "hits, matches = index_approximate_match(p, chromosome_dna, chromosome_dna_index,2)"
   ]
  },
  {
   "cell_type": "code",
   "execution_count": 114,
   "metadata": {},
   "outputs": [
    {
     "data": {
      "text/plain": [
       "19"
      ]
     },
     "execution_count": 114,
     "metadata": {},
     "output_type": "execute_result"
    }
   ],
   "source": [
    "len(matches)"
   ]
  },
  {
   "cell_type": "code",
   "execution_count": 115,
   "metadata": {},
   "outputs": [
    {
     "data": {
      "text/plain": [
       "90"
      ]
     },
     "execution_count": 115,
     "metadata": {},
     "output_type": "execute_result"
    }
   ],
   "source": [
    "len(hits)"
   ]
  },
  {
   "cell_type": "code",
   "execution_count": 116,
   "metadata": {},
   "outputs": [],
   "source": [
    "class SubseqIndex(object):\n",
    "    \"\"\" Holds a subsequence index for a text T \"\"\"\n",
    "    \n",
    "    def __init__(self, t, k, ival):\n",
    "        \"\"\" Create index from all subsequences consisting of k characters\n",
    "            spaced ival positions apart.  E.g., SubseqIndex(\"ATAT\", 2, 2)\n",
    "            extracts (\"AA\", 0) and (\"TT\", 1). \"\"\"\n",
    "        self.k = k  # num characters per subsequence extracted\n",
    "        self.ival = ival  # space between them; 1=adjacent, 2=every other, etc\n",
    "        self.index = []\n",
    "        self.span = 1 + ival * (k - 1)\n",
    "        for i in range(len(t) - self.span + 1):  # for each subseq\n",
    "            self.index.append((t[i:i+self.span:ival], i))  # add (subseq, offset)\n",
    "        self.index.sort()  # alphabetize by subseq\n",
    "    \n",
    "    def query(self, p):\n",
    "        \"\"\" Return index hits for first subseq of p \"\"\"\n",
    "        subseq = p[:self.span:self.ival]  # query with first subseq\n",
    "        i = bisect.bisect_left(self.index, (subseq, -1))  # binary search\n",
    "        hits = []\n",
    "        while i < len(self.index):  # collect matching index entries\n",
    "            if self.index[i][0] != subseq:\n",
    "                break\n",
    "            hits.append(self.index[i][1])\n",
    "            i += 1\n",
    "        return hits"
   ]
  },
  {
   "cell_type": "code",
   "execution_count": 117,
   "metadata": {},
   "outputs": [
    {
     "data": {
      "text/plain": [
       "35"
      ]
     },
     "execution_count": 117,
     "metadata": {},
     "output_type": "execute_result"
    }
   ],
   "source": [
    "t_subseq_index = SubseqIndex(chromosome_dna, 8, 3)\n",
    "len(t_subseq_index.query(p))\n"
   ]
  },
  {
   "cell_type": "code",
   "execution_count": 118,
   "metadata": {},
   "outputs": [],
   "source": [
    "def index_approximate_subseq_match(p, t, t_subseq_index, n):\n",
    "    hits = []    \n",
    "    for position in range(3):\n",
    "        subseq = p[position:][:22:3]\n",
    "        \n",
    "        i = bisect.bisect_left(t_subseq_index.index, (subseq, -1))  # binary search\n",
    "\n",
    "        while i < len(t_subseq_index.index):  # collect matching index entries\n",
    "            if t_subseq_index.index[i][0] != subseq:\n",
    "                break\n",
    "            hits.append(t_subseq_index.index[i][1])\n",
    "            i += 1\n",
    "            \n",
    "    return hits"
   ]
  },
  {
   "cell_type": "code",
   "execution_count": 119,
   "metadata": {},
   "outputs": [],
   "source": [
    "hits = index_approximate_subseq_match(p, chromosome_dna, t_subseq_index, 2)"
   ]
  },
  {
   "cell_type": "code",
   "execution_count": 120,
   "metadata": {},
   "outputs": [
    {
     "data": {
      "text/plain": [
       "79"
      ]
     },
     "execution_count": 120,
     "metadata": {},
     "output_type": "execute_result"
    }
   ],
   "source": [
    "\n",
    "len(hits)"
   ]
  }
 ],
 "metadata": {
  "kernelspec": {
   "display_name": "Python 3.10.2 64-bit",
   "language": "python",
   "name": "python3"
  },
  "language_info": {
   "codemirror_mode": {
    "name": "ipython",
    "version": 3
   },
   "file_extension": ".py",
   "mimetype": "text/x-python",
   "name": "python",
   "nbconvert_exporter": "python",
   "pygments_lexer": "ipython3",
   "version": "3.10.2"
  },
  "orig_nbformat": 4,
  "vscode": {
   "interpreter": {
    "hash": "688d6d9290cbc71a0dde66ad8f3c061888d8c8219e38119b240a3bfcbbcf24c0"
   }
  }
 },
 "nbformat": 4,
 "nbformat_minor": 2
}
