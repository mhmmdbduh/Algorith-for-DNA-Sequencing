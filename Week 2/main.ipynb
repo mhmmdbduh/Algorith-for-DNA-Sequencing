{
 "cells": [
  {
   "cell_type": "code",
   "execution_count": 2,
   "metadata": {},
   "outputs": [
    {
     "name": "stderr",
     "output_type": "stream",
     "text": [
      "--2022-12-04 10:57:27--  http://d28rh4a8wq0iu5.cloudfront.net/ads1/data/chr1.GRCh38.excerpt.fasta\n",
      "Resolving d28rh4a8wq0iu5.cloudfront.net (d28rh4a8wq0iu5.cloudfront.net)... 52.85.6.42, 52.85.6.104, 52.85.6.38, ...\n",
      "Connecting to d28rh4a8wq0iu5.cloudfront.net (d28rh4a8wq0iu5.cloudfront.net)|52.85.6.42|:80... connected.\n",
      "HTTP request sent, awaiting response... 200 OK\n",
      "Length: 810105 (791K) [application/octet-stream]\n",
      "Saving to: 'chr1.GRCh38.excerpt.fasta'\n",
      "\n",
      "     0K .......... .......... .......... .......... ..........  6%  580K 1s\n",
      "    50K .......... .......... .......... .......... .......... 12%  680K 1s\n",
      "   100K .......... .......... .......... .......... .......... 18%  718K 1s\n",
      "   150K .......... .......... .......... .......... .......... 25% 4.22M 1s\n",
      "   200K .......... .......... .......... .......... .......... 31% 6.84M 1s\n",
      "   250K .......... .......... .......... .......... .......... 37%  880K 0s\n",
      "   300K .......... .......... .......... .......... .......... 44% 19.7M 0s\n",
      "   350K .......... .......... .......... .......... .......... 50% 5.79M 0s\n",
      "   400K .......... .......... .......... .......... .......... 56% 5.59M 0s\n",
      "   450K .......... .......... .......... .......... .......... 63% 5.49M 0s\n",
      "   500K .......... .......... .......... .......... .......... 69% 5.84M 0s\n",
      "   550K .......... .......... .......... .......... .......... 75% 1.63M 0s\n",
      "   600K .......... .......... .......... .......... .......... 82% 5.43M 0s\n",
      "   650K .......... .......... .......... .......... .......... 88% 5.79M 0s\n",
      "   700K .......... .......... .......... .......... .......... 94% 1.22M 0s\n",
      "   750K .......... .......... .......... .......... .         100% 1.28M=0.5s\n",
      "\n",
      "2022-12-04 10:57:28 (1.68 MB/s) - 'chr1.GRCh38.excerpt.fasta' saved [810105/810105]\n",
      "\n"
     ]
    }
   ],
   "source": [
    "!wget http://d28rh4a8wq0iu5.cloudfront.net/ads1/data/chr1.GRCh38.excerpt.fasta"
   ]
  }
 ],
 "metadata": {
  "kernelspec": {
   "display_name": "Python 3.10.2 64-bit",
   "language": "python",
   "name": "python3"
  },
  "language_info": {
   "codemirror_mode": {
    "name": "ipython",
    "version": 3
   },
   "file_extension": ".py",
   "mimetype": "text/x-python",
   "name": "python",
   "nbconvert_exporter": "python",
   "pygments_lexer": "ipython3",
   "version": "3.10.2"
  },
  "orig_nbformat": 4,
  "vscode": {
   "interpreter": {
    "hash": "688d6d9290cbc71a0dde66ad8f3c061888d8c8219e38119b240a3bfcbbcf24c0"
   }
  }
 },
 "nbformat": 4,
 "nbformat_minor": 2
}
