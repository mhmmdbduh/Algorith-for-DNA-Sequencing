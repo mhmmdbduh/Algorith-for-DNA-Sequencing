{
 "cells": [
  {
   "cell_type": "code",
   "execution_count": 2,
   "metadata": {},
   "outputs": [],
   "source": [
    "def overlap(a, b, min_length=3):\n",
    "    \"\"\" Return length of longest suffix of 'a' matching\n",
    "        a prefix of 'b' that is at least 'min_length'\n",
    "        characters long.  If no such overlap exists,\n",
    "        return 0. \"\"\"\n",
    "    start = 0  # start all the way at the left\n",
    "    while True:\n",
    "        start = a.find(b[:min_length], start)  # look for b's suffx in a\n",
    "        if start == -1:  # no more occurrences to right\n",
    "            return 0\n",
    "        # found occurrence; check for full suffix/prefix match\n",
    "        if b.startswith(a[start:]):\n",
    "            return len(a)-start\n",
    "        start += 1  # move just past previous match"
   ]
  },
  {
   "cell_type": "code",
   "execution_count": 3,
   "metadata": {},
   "outputs": [],
   "source": [
    "\n",
    "\n",
    "import itertools\n",
    "\n",
    "def scs(ss):\n",
    "    \"\"\" Returns shortest common superstring of given\n",
    "        strings, which must be the same length \"\"\"\n",
    "    shortest_sup = None\n",
    "    for ssperm in itertools.permutations(ss):\n",
    "        sup = ssperm[0]  # superstring starts as first string\n",
    "        for i in range(len(ss)-1):\n",
    "            # overlap adjacent strings A and B in the permutation\n",
    "            olen = overlap(ssperm[i], ssperm[i+1], min_length=1)\n",
    "            # add non-overlapping portion of B to superstring\n",
    "            sup += ssperm[i+1][olen:]\n",
    "        if shortest_sup is None or len(sup) < len(shortest_sup):\n",
    "            shortest_sup = sup  # found shorter superstring\n",
    "    return shortest_sup  # return shortest"
   ]
  },
  {
   "cell_type": "code",
   "execution_count": 4,
   "metadata": {},
   "outputs": [],
   "source": [
    "input_string = [\"CCT\", \"CTT\", \"TGC\", \"TGG\", \"GAT\", \"ATT\"] \n"
   ]
  },
  {
   "cell_type": "code",
   "execution_count": 5,
   "metadata": {},
   "outputs": [],
   "source": [
    "def scs_all(ss):\n",
    "    \"\"\" Returns shortest common superstring of given\n",
    "        strings, which must be the same length \"\"\"\n",
    "    shortest_sup = None\n",
    "    for ssperm in itertools.permutations(ss):\n",
    "        sup = ssperm[0]  # superstring starts as first string\n",
    "        for i in range(len(ss)-1):\n",
    "            # overlap adjacent strings A and B in the permutation\n",
    "            olen = overlap(ssperm[i], ssperm[i+1], min_length=1)\n",
    "            # add non-overlapping portion of B to superstring\n",
    "            sup += ssperm[i+1][olen:]\n",
    "        if shortest_sup is None or len(sup) < len(shortest_sup):\n",
    "            shortest_sup = sup  # found shorter superstring\n",
    "    shortest_len = len(shortest_sup)\n",
    "\n",
    "    scs = set()\n",
    "    for ssperm in itertools.permutations(ss):\n",
    "        sup = ssperm[0]\n",
    "        for i in range(len(ss)-1):\n",
    "            olen = overlap(ssperm[i], ssperm[i+1], min_length=1)\n",
    "            sup += ssperm[i+1][olen:]\n",
    "        if len(sup) <= shortest_len:\n",
    "            scs.add(sup)\n",
    "    return scs"
   ]
  },
  {
   "cell_type": "code",
   "execution_count": 6,
   "metadata": {},
   "outputs": [
    {
     "data": {
      "text/plain": [
       "4"
      ]
     },
     "execution_count": 6,
     "metadata": {},
     "output_type": "execute_result"
    }
   ],
   "source": [
    "input_string = [\"CCT\", \"CTT\", \"TGC\", \"TGG\", \"GAT\", \"ATT\"] \n",
    "scs_list = scs_all(input_string)\n",
    "len(scs_list)"
   ]
  },
  {
   "cell_type": "code",
   "execution_count": 7,
   "metadata": {},
   "outputs": [],
   "source": [
    "#!wget https://d28rh4a8wq0iu5.cloudfront.net/ads1/data/ads1_week4_reads.fq"
   ]
  },
  {
   "cell_type": "code",
   "execution_count": 8,
   "metadata": {},
   "outputs": [],
   "source": [
    "def readFastq(filename):\n",
    "    sequences = []\n",
    "    qualities = []\n",
    "    with open(filename) as fh:\n",
    "        while True:\n",
    "            fh.readline()  # skip name line\n",
    "            seq = fh.readline().rstrip()  # read base sequence\n",
    "            fh.readline()  # skip placeholder line\n",
    "            qual = fh.readline().rstrip() # base quality line\n",
    "            if len(seq) == 0:\n",
    "                break\n",
    "            sequences.append(seq)\n",
    "            qualities.append(qual)\n",
    "    return sequences, qualities"
   ]
  },
  {
   "cell_type": "code",
   "execution_count": 9,
   "metadata": {},
   "outputs": [],
   "source": [
    "filename = 'ads1_week4_reads.fq'\n",
    "reads, quali = readFastq(filename)\n"
   ]
  },
  {
   "cell_type": "code",
   "execution_count": 10,
   "metadata": {},
   "outputs": [],
   "source": [
    "def pick_maximal_overlap(reads, k):\n",
    "    \"\"\" Return a pair of reads from the list with a\n",
    "        maximal suffix/prefix overlap >= k.  Returns\n",
    "        overlap length 0 if there are no such overlaps.\"\"\"\n",
    "    reada, readb = None, None\n",
    "    best_olen = 0\n",
    "    \n",
    "    kmer_dict = {}\n",
    "    \n",
    "    for read in reads:\n",
    "        for i in range(len(read)-k+1):\n",
    "            kmer_dict[read[i:i+k]] = set()\n",
    "            \n",
    "    for read in reads:\n",
    "        for i in range(len(read)-k+1):\n",
    "            kmer_dict[read[i:i+k]].add(read)\n",
    "   \n",
    "    for read in reads:\n",
    "        current_kmer_set = kmer_dict[read[-1*k:]]\n",
    "        for kmer_read in current_kmer_set:\n",
    "            if read != kmer_read:\n",
    "                olen = overlap(read, kmer_read, min_length=k)                \n",
    "                if olen > best_olen:\n",
    "                    reada, readb = read, kmer_read\n",
    "                    best_olen = olen\n",
    "    return reada, readb, best_olen"
   ]
  },
  {
   "cell_type": "code",
   "execution_count": 11,
   "metadata": {},
   "outputs": [],
   "source": [
    "def greedy_scs(reads, k):\n",
    "    \"\"\" Greedy shortest-common-superstring merge.\n",
    "        Repeat until no edges (overlaps of length >= k)\n",
    "        remain. \"\"\"\n",
    "    read_a, read_b, olen = pick_maximal_overlap(reads, k)\n",
    "    while olen > 0:\n",
    "        reads.remove(read_a)\n",
    "        reads.remove(read_b)\n",
    "        reads.append(read_a + read_b[olen:])\n",
    "        read_a, read_b, olen = pick_maximal_overlap(reads, k)\n",
    "    return ''.join(reads)"
   ]
  },
  {
   "cell_type": "code",
   "execution_count": 12,
   "metadata": {},
   "outputs": [
    {
     "ename": "KeyboardInterrupt",
     "evalue": "",
     "output_type": "error",
     "traceback": [
      "\u001b[1;31m---------------------------------------------------------------------------\u001b[0m",
      "\u001b[1;31mKeyboardInterrupt\u001b[0m                         Traceback (most recent call last)",
      "File \u001b[1;32m<timed exec>:1\u001b[0m, in \u001b[0;36m<module>\u001b[1;34m\u001b[0m\n",
      "\u001b[1;32mc:\\Users\\inazu\\OneDrive\\Dokumen\\Algorithmi\\week 4\\test.ipynb Cell 11\u001b[0m in \u001b[0;36mgreedy_scs\u001b[1;34m(reads, k)\u001b[0m\n\u001b[0;32m      <a href='vscode-notebook-cell:/c%3A/Users/inazu/OneDrive/Dokumen/Algorithmi/week%204/test.ipynb#X13sZmlsZQ%3D%3D?line=7'>8</a>\u001b[0m     reads\u001b[39m.\u001b[39mremove(read_b)\n\u001b[0;32m      <a href='vscode-notebook-cell:/c%3A/Users/inazu/OneDrive/Dokumen/Algorithmi/week%204/test.ipynb#X13sZmlsZQ%3D%3D?line=8'>9</a>\u001b[0m     reads\u001b[39m.\u001b[39mappend(read_a \u001b[39m+\u001b[39m read_b[olen:])\n\u001b[1;32m---> <a href='vscode-notebook-cell:/c%3A/Users/inazu/OneDrive/Dokumen/Algorithmi/week%204/test.ipynb#X13sZmlsZQ%3D%3D?line=9'>10</a>\u001b[0m     read_a, read_b, olen \u001b[39m=\u001b[39m pick_maximal_overlap(reads, k)\n\u001b[0;32m     <a href='vscode-notebook-cell:/c%3A/Users/inazu/OneDrive/Dokumen/Algorithmi/week%204/test.ipynb#X13sZmlsZQ%3D%3D?line=10'>11</a>\u001b[0m \u001b[39mreturn\u001b[39;00m \u001b[39m'\u001b[39m\u001b[39m'\u001b[39m\u001b[39m.\u001b[39mjoin(reads)\n",
      "\u001b[1;32mc:\\Users\\inazu\\OneDrive\\Dokumen\\Algorithmi\\week 4\\test.ipynb Cell 11\u001b[0m in \u001b[0;36mpick_maximal_overlap\u001b[1;34m(reads, k)\u001b[0m\n\u001b[0;32m     <a href='vscode-notebook-cell:/c%3A/Users/inazu/OneDrive/Dokumen/Algorithmi/week%204/test.ipynb#X13sZmlsZQ%3D%3D?line=13'>14</a>\u001b[0m \u001b[39mfor\u001b[39;00m read \u001b[39min\u001b[39;00m reads:\n\u001b[0;32m     <a href='vscode-notebook-cell:/c%3A/Users/inazu/OneDrive/Dokumen/Algorithmi/week%204/test.ipynb#X13sZmlsZQ%3D%3D?line=14'>15</a>\u001b[0m     \u001b[39mfor\u001b[39;00m i \u001b[39min\u001b[39;00m \u001b[39mrange\u001b[39m(\u001b[39mlen\u001b[39m(read)\u001b[39m-\u001b[39mk\u001b[39m+\u001b[39m\u001b[39m1\u001b[39m):\n\u001b[1;32m---> <a href='vscode-notebook-cell:/c%3A/Users/inazu/OneDrive/Dokumen/Algorithmi/week%204/test.ipynb#X13sZmlsZQ%3D%3D?line=15'>16</a>\u001b[0m         kmer_dict[read[i:i\u001b[39m+\u001b[39;49mk]]\u001b[39m.\u001b[39;49madd(read)\n\u001b[0;32m     <a href='vscode-notebook-cell:/c%3A/Users/inazu/OneDrive/Dokumen/Algorithmi/week%204/test.ipynb#X13sZmlsZQ%3D%3D?line=17'>18</a>\u001b[0m \u001b[39mfor\u001b[39;00m read \u001b[39min\u001b[39;00m reads:\n\u001b[0;32m     <a href='vscode-notebook-cell:/c%3A/Users/inazu/OneDrive/Dokumen/Algorithmi/week%204/test.ipynb#X13sZmlsZQ%3D%3D?line=18'>19</a>\u001b[0m     current_kmer_set \u001b[39m=\u001b[39m kmer_dict[read[\u001b[39m-\u001b[39m\u001b[39m1\u001b[39m\u001b[39m*\u001b[39mk:]]\n",
      "\u001b[1;31mKeyboardInterrupt\u001b[0m: "
     ]
    }
   ],
   "source": [
    "%%time\n",
    "ss = greedy_scs(reads, 10)"
   ]
  },
  {
   "cell_type": "code",
   "execution_count": null,
   "metadata": {},
   "outputs": [
    {
     "data": {
      "text/plain": [
       "15894"
      ]
     },
     "execution_count": 79,
     "metadata": {},
     "output_type": "execute_result"
    }
   ],
   "source": [
    "len(ss)"
   ]
  },
  {
   "cell_type": "code",
   "execution_count": 14,
   "metadata": {},
   "outputs": [],
   "source": [
    "def scs_dp(reads, k):\n",
    "    \"\"\" Dynamic programming shortest-common-superstring merge.\n",
    "        Finds the optimal solution to the shortest common superstring problem. \"\"\"\n",
    "    # Create a matrix to store the overlap lengths between pairs of reads\n",
    "    overlap_matrix = [[0] * len(reads) for _ in range(len(reads))]\n",
    "    \n",
    "    # Calculate the overlap lengths between all pairs of reads\n",
    "    for i in range(len(reads)):\n",
    "        for j in range(i+1, len(reads)):\n",
    "            olen = overlap_length(reads[i], reads[j], k)\n",
    "            overlap_matrix[i][j] = olen\n",
    "            overlap_matrix[j][i] = olen\n",
    "    \n",
    "    # Create a matrix to store the optimal solutions to subproblems\n",
    "    scs_matrix = [[0] * len(reads) for _ in range(len(reads))]\n",
    "    \n",
    "    # Calculate the optimal solutions to all subproblems using dynamic programming\n",
    "    for i in range(len(reads)):\n",
    "        for j in range(i+1, len(reads)):\n",
    "            scs_matrix[i][j] = min(scs_matrix[i][k] + scs_matrix[k][j] - overlap_matrix[i][j] for k in range(i+1, j))\n",
    "            scs_matrix[j][i] = scs_matrix[i][j]\n",
    "    \n",
    "    # Use the optimal solutions to construct the shortest common superstring\n",
    "    return construct_scs(reads, scs_matrix, 0, len(reads)-1)\n",
    "    \n",
    "def construct_scs(reads, scs_matrix, i, j):\n",
    "    \"\"\" Construct the shortest common superstring using the optimal solutions\n",
    "        stored in the scs_matrix. \"\"\"\n",
    "    if i == j:\n",
    "        # Return the read itself if there is only one read\n",
    "        return reads[i]\n",
    "    else:\n",
    "        # Find the read that should be merged with the current pair\n",
    "        k = min((scs_matrix[i][k] + scs_matrix[k][j] - overlap_matrix[i][j]) for k in range(i+1, j))\n",
    "        \n",
    "        # Merge the reads using the read found in the previous step\n",
    "        return construct_scs(reads, scs_matrix, i, k) + construct_scs(reads, scs_matrix, k, j)[overlap_matrix[i][k]:]"
   ]
  },
  {
   "cell_type": "code",
   "execution_count": 15,
   "metadata": {},
   "outputs": [
    {
     "ename": "NameError",
     "evalue": "name 'overlap_length' is not defined",
     "output_type": "error",
     "traceback": [
      "\u001b[1;31m---------------------------------------------------------------------------\u001b[0m",
      "\u001b[1;31mNameError\u001b[0m                                 Traceback (most recent call last)",
      "File \u001b[1;32m<timed exec>:1\u001b[0m, in \u001b[0;36m<module>\u001b[1;34m\u001b[0m\n",
      "\u001b[1;32mc:\\Users\\inazu\\OneDrive\\Dokumen\\Algorithmi\\week 4\\test.ipynb Cell 14\u001b[0m in \u001b[0;36mscs_dp\u001b[1;34m(reads, k)\u001b[0m\n\u001b[0;32m      <a href='vscode-notebook-cell:/c%3A/Users/inazu/OneDrive/Dokumen/Algorithmi/week%204/test.ipynb#X16sZmlsZQ%3D%3D?line=7'>8</a>\u001b[0m \u001b[39mfor\u001b[39;00m i \u001b[39min\u001b[39;00m \u001b[39mrange\u001b[39m(\u001b[39mlen\u001b[39m(reads)):\n\u001b[0;32m      <a href='vscode-notebook-cell:/c%3A/Users/inazu/OneDrive/Dokumen/Algorithmi/week%204/test.ipynb#X16sZmlsZQ%3D%3D?line=8'>9</a>\u001b[0m     \u001b[39mfor\u001b[39;00m j \u001b[39min\u001b[39;00m \u001b[39mrange\u001b[39m(i\u001b[39m+\u001b[39m\u001b[39m1\u001b[39m, \u001b[39mlen\u001b[39m(reads)):\n\u001b[1;32m---> <a href='vscode-notebook-cell:/c%3A/Users/inazu/OneDrive/Dokumen/Algorithmi/week%204/test.ipynb#X16sZmlsZQ%3D%3D?line=9'>10</a>\u001b[0m         olen \u001b[39m=\u001b[39m overlap_length(reads[i], reads[j], k)\n\u001b[0;32m     <a href='vscode-notebook-cell:/c%3A/Users/inazu/OneDrive/Dokumen/Algorithmi/week%204/test.ipynb#X16sZmlsZQ%3D%3D?line=10'>11</a>\u001b[0m         overlap_matrix[i][j] \u001b[39m=\u001b[39m olen\n\u001b[0;32m     <a href='vscode-notebook-cell:/c%3A/Users/inazu/OneDrive/Dokumen/Algorithmi/week%204/test.ipynb#X16sZmlsZQ%3D%3D?line=11'>12</a>\u001b[0m         overlap_matrix[j][i] \u001b[39m=\u001b[39m olen\n",
      "\u001b[1;31mNameError\u001b[0m: name 'overlap_length' is not defined"
     ]
    }
   ],
   "source": [
    "%%time\n",
    "ss_s = scs_dp(reads, 10)"
   ]
  },
  {
   "cell_type": "code",
   "execution_count": null,
   "metadata": {},
   "outputs": [
    {
     "data": {
      "text/plain": [
       "15894"
      ]
     },
     "execution_count": 82,
     "metadata": {},
     "output_type": "execute_result"
    }
   ],
   "source": [
    "len(ss_s)"
   ]
  },
  {
   "cell_type": "code",
   "execution_count": null,
   "metadata": {},
   "outputs": [
    {
     "data": {
      "text/plain": [
       "4633"
      ]
     },
     "execution_count": 83,
     "metadata": {},
     "output_type": "execute_result"
    }
   ],
   "source": [
    "ss_s.count(\"A\")"
   ]
  },
  {
   "cell_type": "code",
   "execution_count": null,
   "metadata": {},
   "outputs": [
    {
     "data": {
      "text/plain": [
       "3723"
      ]
     },
     "execution_count": 84,
     "metadata": {},
     "output_type": "execute_result"
    }
   ],
   "source": [
    "ss_s.count(\"T\")"
   ]
  },
  {
   "cell_type": "code",
   "execution_count": 18,
   "metadata": {},
   "outputs": [],
   "source": [
    "def alphabet_position(text):\n",
    "    # Create an empty string to store the converted characters\n",
    "    converted_text = \"\"\n",
    "    \n",
    "    # Iterate through each character in the text\n",
    "    for char in text:\n",
    "        # Check if the character is a letter\n",
    "        if char.isalpha():\n",
    "            # Convert the character to its corresponding position in the alphabet and add it to the string\n",
    "            converted_text += str(ord(char.lower()) - ord('a') + 1) + \" \"\n",
    "    \n",
    "    # Return the resulting string of numbers\n",
    "    return converted_text\n"
   ]
  },
  {
   "cell_type": "code",
   "execution_count": 19,
   "metadata": {},
   "outputs": [
    {
     "name": "stdout",
     "output_type": "stream",
     "text": [
      "CPU times: total: 0 ns\n",
      "Wall time: 0 ns\n"
     ]
    },
    {
     "data": {
      "text/plain": [
       "'1 16 1 11 1 8 16 18 5 19 9 4 5 14 20 19 21 4 1 8 13 1 11 1 14 '"
      ]
     },
     "execution_count": 19,
     "metadata": {},
     "output_type": "execute_result"
    }
   ],
   "source": [
    "text = \"apakah president sudah makan\"\n",
    "%time\n",
    "alphabet_position(text)"
   ]
  },
  {
   "cell_type": "code",
   "execution_count": 20,
   "metadata": {},
   "outputs": [],
   "source": [
    "def alphabet_position1(text):\n",
    "    alphabet = {  'a' : 1,\n",
    "                  'b' : 2,\n",
    "                  'c' : 3,\n",
    "                  'd' : 4,\n",
    "                  'e' : 5,\n",
    "                  'f' : 6,\n",
    "                  'g' : 7,\n",
    "                  'h' : 8,\n",
    "                  'i' : 9,\n",
    "                  'j' : 10,\n",
    "                  'k' : 11,\n",
    "                  'l' : 12,\n",
    "                  'm' : 13,\n",
    "                  'n' : 14,\n",
    "                  'o' : 15,\n",
    "                  'p' : 16,\n",
    "                  'q' : 17,\n",
    "                  'r' : 18,\n",
    "                  's' : 19,\n",
    "                  't' : 20,\n",
    "                  'u' : 21,\n",
    "                  'v' : 22,\n",
    "                  'w' : 23,\n",
    "                  'x' : 24,\n",
    "                  'y' : 25,\n",
    "                  'z' : 26, }\n",
    "    inds = []\n",
    "    for x in text.lower():\n",
    "        if x in alphabet:\n",
    "            inds.append(alphabet[x])\n",
    "    return ' '.join(([str(x) for x in inds]))"
   ]
  },
  {
   "cell_type": "code",
   "execution_count": 21,
   "metadata": {},
   "outputs": [
    {
     "name": "stdout",
     "output_type": "stream",
     "text": [
      "CPU times: total: 0 ns\n",
      "Wall time: 0 ns\n"
     ]
    },
    {
     "data": {
      "text/plain": [
       "'1 16 1 11 1 8 16 18 5 19 9 4 5 14 20 19 21 4 1 8 13 1 11 1 14'"
      ]
     },
     "execution_count": 21,
     "metadata": {},
     "output_type": "execute_result"
    }
   ],
   "source": [
    "%time\n",
    "alphabet_position1(text)"
   ]
  },
  {
   "cell_type": "code",
   "execution_count": 1,
   "metadata": {},
   "outputs": [
    {
     "ename": "KeyboardInterrupt",
     "evalue": "",
     "output_type": "error",
     "traceback": [
      "\u001b[1;31m---------------------------------------------------------------------------\u001b[0m",
      "\u001b[1;31mKeyboardInterrupt\u001b[0m                         Traceback (most recent call last)",
      "\u001b[1;32mc:\\Users\\inazu\\OneDrive\\Dokumen\\Algorithmi\\week 4\\test.ipynb Cell 22\u001b[0m in \u001b[0;36m<cell line: 32>\u001b[1;34m()\u001b[0m\n\u001b[0;32m     <a href='vscode-notebook-cell:/c%3A/Users/inazu/OneDrive/Dokumen/Algorithmi/week%204/test.ipynb#X30sZmlsZQ%3D%3D?line=28'>29</a>\u001b[0m   turtle\u001b[39m.\u001b[39mforward(\u001b[39m141.42\u001b[39m)\n\u001b[0;32m     <a href='vscode-notebook-cell:/c%3A/Users/inazu/OneDrive/Dokumen/Algorithmi/week%204/test.ipynb#X30sZmlsZQ%3D%3D?line=30'>31</a>\u001b[0m draw_heart()\n\u001b[1;32m---> <a href='vscode-notebook-cell:/c%3A/Users/inazu/OneDrive/Dokumen/Algorithmi/week%204/test.ipynb#X30sZmlsZQ%3D%3D?line=31'>32</a>\u001b[0m turtle\u001b[39m.\u001b[39;49mdone()\n",
      "File \u001b[1;32m<string>:8\u001b[0m, in \u001b[0;36mmainloop\u001b[1;34m()\u001b[0m\n",
      "File \u001b[1;32mC:\\Program Files\\WindowsApps\\PythonSoftwareFoundation.Python.3.9_3.9.3568.0_x64__qbz5n2kfra8p0\\lib\\turtle.py:812\u001b[0m, in \u001b[0;36mTurtleScreenBase.mainloop\u001b[1;34m(self)\u001b[0m\n\u001b[0;32m    799\u001b[0m \u001b[39mdef\u001b[39;00m \u001b[39mmainloop\u001b[39m(\u001b[39mself\u001b[39m):\n\u001b[0;32m    800\u001b[0m     \u001b[39m\"\"\"Starts event loop - calling Tkinter's mainloop function.\u001b[39;00m\n\u001b[0;32m    801\u001b[0m \n\u001b[0;32m    802\u001b[0m \u001b[39m    No argument.\u001b[39;00m\n\u001b[1;32m   (...)\u001b[0m\n\u001b[0;32m    810\u001b[0m \n\u001b[0;32m    811\u001b[0m \u001b[39m    \"\"\"\u001b[39;00m\n\u001b[1;32m--> 812\u001b[0m     \u001b[39mself\u001b[39;49m\u001b[39m.\u001b[39;49mcv\u001b[39m.\u001b[39;49mtk\u001b[39m.\u001b[39;49mmainloop()\n",
      "\u001b[1;31mKeyboardInterrupt\u001b[0m: "
     ]
    },
    {
     "ename": "",
     "evalue": "",
     "output_type": "error",
     "traceback": [
      "\u001b[1;31mThe Kernel crashed while executing code in the the current cell or a previous cell. Please review the code in the cell(s) to identify a possible cause of the failure. Click <a href='https://aka.ms/vscodeJupyterKernelCrash'>here</a> for more info. View Jupyter <a href='command:jupyter.viewOutput'>log</a> for further details."
     ]
    }
   ],
   "source": [
    "import turtle\n",
    "\n",
    "def draw_heart():\n",
    "  turtle.color(\"red\")\n",
    "\n",
    "  turtle.penup()\n",
    "  turtle.goto(-100, 0)\n",
    "  turtle.pendown()\n",
    "\n",
    "  turtle.left(45)\n",
    "  turtle.forward(60)\n",
    "  turtle.right(90)\n",
    "  turtle.forward(60)\n",
    "  turtle.right(90)\n",
    "  turtle.forward(60)\n",
    "  turtle.right(90)\n",
    "  turtle.forward(60)\n",
    "  turtle.right(45)\n",
    "\n",
    "  turtle.left(90)\n",
    "  turtle.forward(100)\n",
    "  turtle.right(90)\n",
    "  turtle.forward(100)\n",
    "\n",
    "  turtle.penup()\n",
    "  turtle.goto(-100, 0)\n",
    "  turtle.pendown()\n",
    "  turtle.right(135)\n",
    "  turtle.forward(141.42)\n",
    "\n",
    "draw_heart()\n",
    "turtle.done()\n"
   ]
  }
 ],
 "metadata": {
  "kernelspec": {
   "display_name": "Python 3.9.13 64-bit (microsoft store)",
   "language": "python",
   "name": "python3"
  },
  "language_info": {
   "codemirror_mode": {
    "name": "ipython",
    "version": 3
   },
   "file_extension": ".py",
   "mimetype": "text/x-python",
   "name": "python",
   "nbconvert_exporter": "python",
   "pygments_lexer": "ipython3",
   "version": "3.9.13 (tags/v3.9.13:6de2ca5, May 17 2022, 16:36:42) [MSC v.1929 64 bit (AMD64)]"
  },
  "orig_nbformat": 4,
  "vscode": {
   "interpreter": {
    "hash": "fc1e82968dfc16c270f2267ba27bdfb769cbc452151b271495bc5380f178b194"
   }
  }
 },
 "nbformat": 4,
 "nbformat_minor": 2
}
