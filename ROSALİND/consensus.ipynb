{
 "cells": [
  {
   "cell_type": "code",
   "execution_count": 16,
   "metadata": {},
   "outputs": [],
   "source": [
    "from collections import defaultdict\n",
    "\n",
    "def consensus_and_profile(fasta):\n",
    "  dnas = {}\n",
    "  current_dna = \"\"\n",
    "  current_label = \"\"\n",
    "  for line in fasta.strip().split(\"\\n\"):\n",
    "    if line[0] == \">\":\n",
    "      if current_dna:\n",
    "        dnas[current_label] = current_dna\n",
    "      current_label = line[1:]\n",
    "      current_dna = \"\"\n",
    "    else:\n",
    "      current_dna += line\n",
    "  dnas[current_label] = current_dna\n",
    "\n",
    "  n = len(list(dnas.values())[0])\n",
    "  counts = defaultdict(lambda: defaultdict(int))\n",
    "  for label, dna in dnas.items():\n",
    "    for i, base in enumerate(dna):\n",
    "      counts[i][base] += 1\n",
    "\n",
    "  consensus = \"\"\n",
    "  for i in range(n):\n",
    "    max_count = 0\n",
    "    max_base = \"\"\n",
    "    for base, count in counts[i].items():\n",
    "      if count > max_count:\n",
    "        max_count = count\n",
    "        max_base = base\n",
    "    consensus += max_base\n",
    "\n",
    "  return consensus, counts"
   ]
  },
  {
   "cell_type": "code",
   "execution_count": 17,
   "metadata": {},
   "outputs": [
    {
     "data": {
      "text/plain": [
       "('rosalind_cons.txt',\n",
       " defaultdict(<function __main__.consensus_and_profile.<locals>.<lambda>()>,\n",
       "             {0: defaultdict(int, {'r': 1}),\n",
       "              1: defaultdict(int, {'o': 1}),\n",
       "              2: defaultdict(int, {'s': 1}),\n",
       "              3: defaultdict(int, {'a': 1}),\n",
       "              4: defaultdict(int, {'l': 1}),\n",
       "              5: defaultdict(int, {'i': 1}),\n",
       "              6: defaultdict(int, {'n': 1}),\n",
       "              7: defaultdict(int, {'d': 1}),\n",
       "              8: defaultdict(int, {'_': 1}),\n",
       "              9: defaultdict(int, {'c': 1}),\n",
       "              10: defaultdict(int, {'o': 1}),\n",
       "              11: defaultdict(int, {'n': 1}),\n",
       "              12: defaultdict(int, {'s': 1}),\n",
       "              13: defaultdict(int, {'.': 1}),\n",
       "              14: defaultdict(int, {'t': 1}),\n",
       "              15: defaultdict(int, {'x': 1}),\n",
       "              16: defaultdict(int, {'t': 1})}))"
      ]
     },
     "execution_count": 17,
     "metadata": {},
     "output_type": "execute_result"
    }
   ],
   "source": [
    "file = \"rosalind_cons.txt\"\n",
    "result = consensus_and_profile(file)\n",
    "result"
   ]
  }
 ],
 "metadata": {
  "kernelspec": {
   "display_name": "Python 3",
   "language": "python",
   "name": "python3"
  },
  "language_info": {
   "codemirror_mode": {
    "name": "ipython",
    "version": 3
   },
   "file_extension": ".py",
   "mimetype": "text/x-python",
   "name": "python",
   "nbconvert_exporter": "python",
   "pygments_lexer": "ipython3",
   "version": "3.9.13"
  },
  "orig_nbformat": 4,
  "vscode": {
   "interpreter": {
    "hash": "fc1e82968dfc16c270f2267ba27bdfb769cbc452151b271495bc5380f178b194"
   }
  }
 },
 "nbformat": 4,
 "nbformat_minor": 2
}
